{
 "cells": [
  {
   "cell_type": "code",
   "execution_count": 454,
   "metadata": {},
   "outputs": [],
   "source": [
    "import numpy as np\n",
    "import pandas as pd\n",
    "import nltk\n",
    "from sklearn.feature_extraction.text import CountVectorizer\n",
    "from nltk.corpus import stopwords\n",
    "from nltk.tokenize import word_tokenize"
   ]
  },
  {
   "cell_type": "code",
   "execution_count": 455,
   "metadata": {},
   "outputs": [],
   "source": [
    "# get data\n",
    "X = []\n",
    "Y = []\n",
    "\n",
    "for line in open('./data.txt', 'r'):\n",
    "    tp = line.split('\\t')\n",
    "    X.append(tp[0].lower())\n",
    "    Y.append(int(tp[1].split('\\n')[0]))"
   ]
  },
  {
   "cell_type": "code",
   "execution_count": 456,
   "metadata": {},
   "outputs": [],
   "source": [
    "# eliminate all punctuations and strip off extra whitespaces\n",
    "puncs = '!\"#$%&()*+,-./:;<=>?@[\\\\]^_`{|}~'\n",
    "\n",
    "for p in puncs:\n",
    "    X = [x.replace(p, \" \") for x in X]\n",
    "    \n",
    "X = [\" \".join(a.split()) for a in X]"
   ]
  },
  {
   "cell_type": "code",
   "execution_count": 457,
   "metadata": {},
   "outputs": [],
   "source": [
    "# change lists into numpy arrays\n",
    "X = np.array(X)\n",
    "Y = np.array(Y)"
   ]
  },
  {
   "cell_type": "code",
   "execution_count": 458,
   "metadata": {},
   "outputs": [],
   "source": [
    "# list of words created\n",
    "words = []\n",
    "\n",
    "for x in X:\n",
    "    k = x.split()\n",
    "    words = words + k\n",
    "    \n",
    "words = list(set(words))"
   ]
  },
  {
   "cell_type": "code",
   "execution_count": 459,
   "metadata": {},
   "outputs": [],
   "source": [
    "# eliminate stopwords\n",
    "stops = stopwords.words('english')\n",
    "alter_words = []\n",
    "\n",
    "for w in words:\n",
    "    if w not in stops:\n",
    "        alter_words.append(w)\n",
    "        \n",
    "words = alter_words"
   ]
  },
  {
   "cell_type": "code",
   "execution_count": 460,
   "metadata": {},
   "outputs": [],
   "source": [
    "for i in range(1000):\n",
    "    X[i] = \" \".join([word for word in X[i].split() if word not in stops])"
   ]
  },
  {
   "cell_type": "code",
   "execution_count": 461,
   "metadata": {},
   "outputs": [],
   "source": [
    "# stemming\n",
    "\n",
    "from nltk.stem.porter import PorterStemmer\n",
    "\n",
    "stemmer = PorterStemmer()\n",
    "X = [\" \".join([stemmer.stem(w) for w in x.split()]) for x in X]"
   ]
  },
  {
   "cell_type": "code",
   "execution_count": 462,
   "metadata": {},
   "outputs": [],
   "source": [
    "# lemmatization\n",
    "\n",
    "from nltk.stem import WordNetLemmatizer\n",
    "\n",
    "lemmatizer = WordNetLemmatizer()\n",
    "X = [\" \".join([lemmatizer.lemmatize(w) for w in x.split()]) for x in X]"
   ]
  },
  {
   "cell_type": "code",
   "execution_count": 463,
   "metadata": {},
   "outputs": [],
   "source": [
    "from sklearn.feature_extraction.text import CountVectorizer"
   ]
  },
  {
   "cell_type": "code",
   "execution_count": 464,
   "metadata": {},
   "outputs": [],
   "source": [
    "cv = CountVectorizer(binary=True, ngram_range=(1, 2))\n",
    "cv.fit(X)\n",
    "x_trans = cv.transform(X)"
   ]
  },
  {
   "cell_type": "code",
   "execution_count": 465,
   "metadata": {},
   "outputs": [],
   "source": [
    "from sklearn.model_selection import train_test_split\n",
    "\n",
    "x_train, x_test, y_train, y_test = train_test_split(x_trans, Y, train_size = 0.8)"
   ]
  },
  {
   "cell_type": "code",
   "execution_count": 466,
   "metadata": {},
   "outputs": [
    {
     "data": {
      "text/plain": [
       "(1000, 5183)"
      ]
     },
     "execution_count": 466,
     "metadata": {},
     "output_type": "execute_result"
    }
   ],
   "source": [
    "x_trans.shape"
   ]
  },
  {
   "cell_type": "code",
   "execution_count": 467,
   "metadata": {},
   "outputs": [],
   "source": [
    "from sklearn.linear_model import LogisticRegression\n",
    "from sklearn.svm import LinearSVC\n",
    "from sklearn.metrics import accuracy_score"
   ]
  },
  {
   "cell_type": "code",
   "execution_count": 468,
   "metadata": {},
   "outputs": [],
   "source": [
    "accuracies = []\n",
    "bv = list(np.linspace(0.25, 5, 20))\n",
    "cval = [0.25, 0.5, 0.75, 1, 1.25, 1.5, 1.75, 2, 2.25, 2.5, 2.75, 3, 3.25, 3.5, 3.75, 4, 4.25, 4.5, 4.75, 5]\n",
    "\n",
    "for c in bv:\n",
    "    lr = LinearSVC(C = c)\n",
    "    lr.fit(x_train, y_train)\n",
    "    accuracies.append(accuracy_score(y_test, lr.predict(x_test)))"
   ]
  },
  {
   "cell_type": "code",
   "execution_count": 469,
   "metadata": {},
   "outputs": [],
   "source": [
    "lr = LinearSVC(C=0.5)\n",
    "lr.fit(x_train, y_train)\n",
    "trac = accuracy_score(y_train, lr.predict(x_train))\n",
    "tsac = accuracy_score(y_test, lr.predict(x_test))"
   ]
  },
  {
   "cell_type": "code",
   "execution_count": 470,
   "metadata": {},
   "outputs": [
    {
     "name": "stdout",
     "output_type": "stream",
     "text": [
      "Training accuracy: 0.99625\n",
      "Testing accuracy: 0.845\n"
     ]
    }
   ],
   "source": [
    "print(\"Training accuracy: \" + str(accuracy_score(y_train, lr.predict(x_train))))\n",
    "print(\"Testing accuracy: \" + str(accuracy_score(y_test, lr.predict(x_test))))"
   ]
  },
  {
   "cell_type": "code",
   "execution_count": null,
   "metadata": {},
   "outputs": [],
   "source": []
  }
 ],
 "metadata": {
  "kernelspec": {
   "display_name": "Python 3",
   "language": "python",
   "name": "python3"
  },
  "language_info": {
   "codemirror_mode": {
    "name": "ipython",
    "version": 3
   },
   "file_extension": ".py",
   "mimetype": "text/x-python",
   "name": "python",
   "nbconvert_exporter": "python",
   "pygments_lexer": "ipython3",
   "version": "3.7.4"
  }
 },
 "nbformat": 4,
 "nbformat_minor": 2
}
